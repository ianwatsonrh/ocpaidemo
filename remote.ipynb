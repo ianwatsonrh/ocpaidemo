{
 "cells": [
  {
   "cell_type": "code",
   "execution_count": null,
   "id": "13035287-f9f3-4638-9bff-5a35500a54f9",
   "metadata": {
    "tags": []
   },
   "outputs": [],
   "source": [
    "import torch\n",
    "import torchvision\n",
    "import torchvision.transforms as transforms\n",
    "import matplotlib.pyplot as plt"
   ]
  },
  {
   "cell_type": "code",
   "execution_count": null,
   "id": "1ecae31b-6719-44c9-a6e1-ae16d56dc843",
   "metadata": {
    "tags": []
   },
   "outputs": [],
   "source": [
    "test_set = torchvision.datasets.FashionMNIST(\n",
    "    root='./data'\n",
    "    ,train=False\n",
    "    ,download=True\n",
    "    ,transform=transforms.Compose([\n",
    "        transforms.ToTensor()\n",
    "    ])\n",
    ")"
   ]
  },
  {
   "cell_type": "code",
   "execution_count": null,
   "id": "755d940f-b1a6-454b-b452-bdacb3a264c8",
   "metadata": {
    "tags": []
   },
   "outputs": [],
   "source": [
    "remote_loader = torch.utils.data.DataLoader(\n",
    "    test_set, batch_size=1, shuffle=True)"
   ]
  },
  {
   "cell_type": "code",
   "execution_count": null,
   "id": "bd30c056-1deb-4218-b7fa-920b056d3c7e",
   "metadata": {
    "tags": []
   },
   "outputs": [],
   "source": [
    "batch = next(iter(remote_loader))\n",
    "images, labels = batch"
   ]
  },
  {
   "cell_type": "code",
   "execution_count": null,
   "id": "afb290a5-940b-4a56-8bda-619dc7710460",
   "metadata": {
    "tags": []
   },
   "outputs": [],
   "source": [
    "infer_url = 'https://changeme/v2/models/imageclassifier/infer'\n",
    "bearer = 'Bearer change me'"
   ]
  },
  {
   "cell_type": "code",
   "execution_count": null,
   "id": "9d87cda6-0a49-4b27-9ac7-183c7741f338",
   "metadata": {
    "tags": []
   },
   "outputs": [],
   "source": [
    "import requests\n",
    "\n",
    "def rest_request(data):\n",
    "    json_data = {\n",
    "        \"inputs\": [\n",
    "            {\n",
    "                \"name\": \"input.1\",\n",
    "                \"shape\": [1, 1, 28, 28],\n",
    "                \"datatype\": \"FP32\",\n",
    "                \"data\": data\n",
    "            }\n",
    "        ]\n",
    "    }\n",
    "    \n",
    "    headers = {'Authorization': bearer}\n",
    "\n",
    "    response = requests.post(infer_url, json=json_data, verify=False, headers=headers)\n",
    "    response_dict = response.json()\n",
    "    return response_dict['outputs'][0]['data']"
   ]
  },
  {
   "cell_type": "code",
   "execution_count": null,
   "id": "72820e88-3cf3-4804-8507-782900f1d2f5",
   "metadata": {
    "tags": []
   },
   "outputs": [],
   "source": [
    "images[0].unsqueeze(0).shape"
   ]
  },
  {
   "cell_type": "code",
   "execution_count": null,
   "id": "7b6989b2-df50-4bdc-be61-3820c0b6267b",
   "metadata": {},
   "outputs": [],
   "source": [
    "prediction = rest_request(images[0].unsqueeze(0).tolist())\n",
    "output = torch.tensor(prediction)\n",
    "\n",
    "print(\"Prediction:\" + str(output.argmax().item()))\n",
    "print(\"Actual:\" + str(labels[0].item()))"
   ]
  },
  {
   "cell_type": "code",
   "execution_count": null,
   "id": "768bd336-8a4a-4e2c-aea2-e7f3e222a06c",
   "metadata": {
    "tags": []
   },
   "outputs": [],
   "source": [
    "plt.figure(figsize=(28,28))\n",
    "batch = next(iter(remote_loader))\n",
    "images, labels = batch\n",
    "prediction = rest_request(images[0].unsqueeze(0).tolist())\n",
    "pred = torch.tensor(prediction)\n",
    "output = pred.argmax(dim=0)\n",
    "\n",
    "\n",
    "image = images[0]\n",
    "label = labels[0]               \n",
    "ax = plt.subplot(1,10,1)\n",
    "plt.imshow(image.reshape(28,28), cmap='gray')\n",
    "plt.axis('off')\n",
    "plt.title(test_set.classes[label.item()], fontsize=28)\n",
    "plt.text(0.5,-0.3,test_set.classes[output.item()], fontsize=28,color='red',ha='center',transform=ax.transAxes)\n",
    "plt.show()"
   ]
  }
 ],
 "metadata": {
  "kernelspec": {
   "display_name": "Python 3.9",
   "language": "python",
   "name": "python3"
  },
  "language_info": {
   "codemirror_mode": {
    "name": "ipython",
    "version": 3
   },
   "file_extension": ".py",
   "mimetype": "text/x-python",
   "name": "python",
   "nbconvert_exporter": "python",
   "pygments_lexer": "ipython3",
   "version": "3.9.18"
  }
 },
 "nbformat": 4,
 "nbformat_minor": 5
}
