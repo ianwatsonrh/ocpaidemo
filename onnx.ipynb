{
 "cells": [
  {
   "cell_type": "code",
   "execution_count": 1,
   "id": "69d2fe0c-ee91-4481-a473-9440e42de398",
   "metadata": {
    "tags": []
   },
   "outputs": [],
   "source": [
    "from resources.network import Network\n",
    "import torch\n",
    "import torch.onnx"
   ]
  },
  {
   "cell_type": "code",
   "execution_count": 2,
   "id": "3f0d975b-e0b2-4ce4-97c6-ae2fa326c61f",
   "metadata": {
    "tags": []
   },
   "outputs": [
    {
     "data": {
      "text/plain": [
       "Network(\n",
       "  (conv1): Conv2d(1, 6, kernel_size=(5, 5), stride=(1, 1))\n",
       "  (conv2): Conv2d(6, 12, kernel_size=(5, 5), stride=(1, 1))\n",
       "  (fc1): Linear(in_features=192, out_features=120, bias=True)\n",
       "  (fc2): Linear(in_features=120, out_features=60, bias=True)\n",
       "  (out): Linear(in_features=60, out_features=10, bias=True)\n",
       ")"
      ]
     },
     "execution_count": 2,
     "metadata": {},
     "output_type": "execute_result"
    }
   ],
   "source": [
    "model = Network()\n",
    "model.load_state_dict(torch.load(\"state_dict_model-Run(lr=0.01, batch_size=1000, shuffle=True, device='cuda').pt\", weights_only=True))\n",
    "model.eval()"
   ]
  },
  {
   "cell_type": "code",
   "execution_count": 3,
   "id": "fe168ba0-f27a-43ff-8184-48063ada50f1",
   "metadata": {
    "tags": []
   },
   "outputs": [],
   "source": [
    "torch_input = torch.randn(1, 1, 28, 28)\n",
    "onnx_program = torch.onnx.export(model, torch_input,'ImageClassifier.onnx')"
   ]
  },
  {
   "cell_type": "code",
   "execution_count": 4,
   "id": "12306b85-cda9-421b-be4c-6bba687eee97",
   "metadata": {
    "tags": []
   },
   "outputs": [],
   "source": [
    "import os\n",
    "import boto3\n",
    "from botocore.client import Config\n",
    "from boto3 import session"
   ]
  },
  {
   "cell_type": "code",
   "execution_count": 5,
   "id": "d7ba65e6-4359-47e4-8955-9634c2603b4e",
   "metadata": {
    "tags": []
   },
   "outputs": [],
   "source": [
    "key_id = os.environ.get('AWS_ACCESS_KEY_ID')\n",
    "secret_key = os.environ.get('AWS_SECRET_ACCESS_KEY')\n",
    "bucket = os.environ.get('AWS_S3_BUCKET')\n",
    "endpoint = os.environ.get('AWS_S3_ENDPOINT')\n",
    "region = os.environ.get('AWS_DEFAULT_REGION')\n",
    "\n",
    "#Define client session\n",
    "session = boto3.session.Session(aws_access_key_id=key_id,aws_secret_access_key=secret_key)\n",
    "\n",
    "#Define client connection\n",
    "s3_client = boto3.client('s3', aws_access_key_id=key_id,aws_secret_access_key=secret_key,aws_session_token=None,\n",
    "    config=boto3.session.Config(signature_version='s3v4'),\n",
    "                        endpoint_url=endpoint,\n",
    "                        region_name=region)"
   ]
  },
  {
   "cell_type": "code",
   "execution_count": 6,
   "id": "09b48c26-a361-4f94-9b77-66e4e81617be",
   "metadata": {
    "tags": []
   },
   "outputs": [],
   "source": [
    "s3_client.upload_file('ImageClassifier.onnx', bucket, 'ImageClassifier.onnx')"
   ]
  },
  {
   "cell_type": "code",
   "execution_count": 8,
   "id": "ca8f9f79-6b3d-4c12-8fda-4c024b0fa1dd",
   "metadata": {
    "tags": []
   },
   "outputs": [
    {
     "data": {
      "text/plain": [
       "{'ResponseMetadata': {'RequestId': 'tx00000724f215108edd1e8-0066f40552-11d1a10-ocs-storagecluster-cephobjectstore',\n",
       "  'HostId': '',\n",
       "  'HTTPStatusCode': 200,\n",
       "  'HTTPHeaders': {'transfer-encoding': 'chunked',\n",
       "   'x-amz-request-id': 'tx00000724f215108edd1e8-0066f40552-11d1a10-ocs-storagecluster-cephobjectstore',\n",
       "   'content-type': 'application/xml',\n",
       "   'date': 'Wed, 25 Sep 2024 12:42:58 GMT',\n",
       "   'connection': 'Keep-Alive'},\n",
       "  'RetryAttempts': 0},\n",
       " 'IsTruncated': False,\n",
       " 'Contents': [{'Key': 'ImageClassifier.onnx',\n",
       "   'LastModified': datetime.datetime(2024, 9, 25, 12, 42, 46, 355000, tzinfo=tzlocal()),\n",
       "   'ETag': '\"c9eb57e904fe0f3cddc502a017bdcae5\"',\n",
       "   'Size': 133758,\n",
       "   'StorageClass': 'STANDARD'},\n",
       "  {'Key': 'iris-training-pipeline/5098c189-39a7-4c8c-9db2-65364d394e08/create-dataset/iris_dataset',\n",
       "   'LastModified': datetime.datetime(2024, 9, 23, 19, 21, 41, 159000, tzinfo=tzlocal()),\n",
       "   'ETag': '\"ae25186fe07a7c1aed40dbc24dab5e4a\"',\n",
       "   'Size': 1809,\n",
       "   'StorageClass': 'STANDARD'},\n",
       "  {'Key': 'iris-training-pipeline/5098c189-39a7-4c8c-9db2-65364d394e08/normalize-dataset/normalized_iris_dataset',\n",
       "   'LastModified': datetime.datetime(2024, 9, 23, 19, 22, 31, 44000, tzinfo=tzlocal()),\n",
       "   'ETag': '\"7084616a5cb463dc66f53350856a796a\"',\n",
       "   'Size': 6075,\n",
       "   'StorageClass': 'STANDARD'},\n",
       "  {'Key': 'iris-training-pipeline/5098c189-39a7-4c8c-9db2-65364d394e08/train-model/model',\n",
       "   'LastModified': datetime.datetime(2024, 9, 23, 19, 23, 21, 421000, tzinfo=tzlocal()),\n",
       "   'ETag': '\"5d4c1972bc2e461174934d3ed68fc086\"',\n",
       "   'Size': 3915,\n",
       "   'StorageClass': 'STANDARD'},\n",
       "  {'Key': 'iris-training-pipeline/6e3aa6a3-637d-4d6c-a2a8-983a8865bb1e/normalize-dataset/normalized_iris_dataset',\n",
       "   'LastModified': datetime.datetime(2024, 9, 23, 19, 25, 3, 453000, tzinfo=tzlocal()),\n",
       "   'ETag': '\"47344bd669b204f258e79b831cc12e91\"',\n",
       "   'Size': 5138,\n",
       "   'StorageClass': 'STANDARD'},\n",
       "  {'Key': 'iris-training-pipeline/6e3aa6a3-637d-4d6c-a2a8-983a8865bb1e/train-model/model',\n",
       "   'LastModified': datetime.datetime(2024, 9, 23, 19, 25, 53, 943000, tzinfo=tzlocal()),\n",
       "   'ETag': '\"f612e3169af90eb31f69272cb0e931aa\"',\n",
       "   'Size': 3915,\n",
       "   'StorageClass': 'STANDARD'},\n",
       "  {'Key': 'iris-training-pipeline/fe48ec6f-3f42-42e6-8f13-374ff76d45e8/train-model/model',\n",
       "   'LastModified': datetime.datetime(2024, 9, 23, 20, 13, 30, 394000, tzinfo=tzlocal()),\n",
       "   'ETag': '\"9903dc401bb8bcdf1f249a64c0ba5e00\"',\n",
       "   'Size': 3915,\n",
       "   'StorageClass': 'STANDARD'},\n",
       "  {'Key': 'metrics-visualization-pipeline/cdf3cee3-92e1-44ce-8017-384bd5c1412a/html-visualization/html_artifact',\n",
       "   'LastModified': datetime.datetime(2024, 9, 23, 20, 15, 43, 944000, tzinfo=tzlocal()),\n",
       "   'ETag': '\"4be0841ac2f15362f6dd1a5423aa3013\"',\n",
       "   'Size': 61,\n",
       "   'StorageClass': 'STANDARD'},\n",
       "  {'Key': 'metrics-visualization-pipeline/cdf3cee3-92e1-44ce-8017-384bd5c1412a/markdown-visualization/markdown_artifact',\n",
       "   'LastModified': datetime.datetime(2024, 9, 23, 20, 15, 43, 738000, tzinfo=tzlocal()),\n",
       "   'ETag': '\"755e1753bb769483b48274b1434acb76\"',\n",
       "   'Size': 34,\n",
       "   'StorageClass': 'STANDARD'},\n",
       "  {'Key': 'pipelines/129ac43c-a87f-42f2-9e9b-310466b5764e',\n",
       "   'LastModified': datetime.datetime(2024, 9, 23, 20, 14, 13, 950000, tzinfo=tzlocal()),\n",
       "   'ETag': '\"31f368368b9779bfe0d29d737aa90b8b\"',\n",
       "   'Size': 13684,\n",
       "   'StorageClass': 'STANDARD'},\n",
       "  {'Key': 'pipelines/24db153f-d22b-4b48-9b2b-4e78a7f64988',\n",
       "   'LastModified': datetime.datetime(2024, 9, 23, 11, 31, 32, 759000, tzinfo=tzlocal()),\n",
       "   'ETag': '\"7851f90da25a08dc518c06ef186cc5d4\"',\n",
       "   'Size': 5863,\n",
       "   'StorageClass': 'STANDARD'},\n",
       "  {'Key': 'pipelines/8662ccaf-0ddc-4e65-a6dc-62c518815acf',\n",
       "   'LastModified': datetime.datetime(2024, 9, 25, 9, 27, 33, 773000, tzinfo=tzlocal()),\n",
       "   'ETag': '\"5fe83e38e483c3c336b74a83ae06ec90\"',\n",
       "   'Size': 13683,\n",
       "   'StorageClass': 'STANDARD'},\n",
       "  {'Key': 'pipelines/ad106694-11fe-4364-ad9e-a355849db4ab',\n",
       "   'LastModified': datetime.datetime(2024, 9, 23, 19, 20, 27, 764000, tzinfo=tzlocal()),\n",
       "   'ETag': '\"23b4d54238bf70103e1d0918af9b19cf\"',\n",
       "   'Size': 11894,\n",
       "   'StorageClass': 'STANDARD'},\n",
       "  {'Key': 'pipelines/cf8ed03b-deb2-433f-b88b-2e3f92e7e601',\n",
       "   'LastModified': datetime.datetime(2024, 9, 23, 10, 45, 44, 288000, tzinfo=tzlocal()),\n",
       "   'ETag': '\"8ebbacd0bf95139bb31921a716fddd17\"',\n",
       "   'Size': 2289,\n",
       "   'StorageClass': 'STANDARD'}],\n",
       " 'Name': 'dataconnection-733ccd70-62c5-407a-b8dd-259dd39858b4',\n",
       " 'Prefix': '',\n",
       " 'MaxKeys': 1000,\n",
       " 'EncodingType': 'url',\n",
       " 'KeyCount': 14}"
      ]
     },
     "execution_count": 8,
     "metadata": {},
     "output_type": "execute_result"
    }
   ],
   "source": [
    "s3_client.list_objects_v2(Bucket=bucket)"
   ]
  }
 ],
 "metadata": {
  "kernelspec": {
   "display_name": "Python 3.9",
   "language": "python",
   "name": "python3"
  },
  "language_info": {
   "codemirror_mode": {
    "name": "ipython",
    "version": 3
   },
   "file_extension": ".py",
   "mimetype": "text/x-python",
   "name": "python",
   "nbconvert_exporter": "python",
   "pygments_lexer": "ipython3",
   "version": "3.9.18"
  }
 },
 "nbformat": 4,
 "nbformat_minor": 5
}
